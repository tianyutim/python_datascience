{
 "cells": [
  {
   "cell_type": "markdown",
   "id": "dee13b62",
   "metadata": {},
   "source": [
    "# 2.1 理解Python中的数据类型"
   ]
  },
  {
   "cell_type": "markdown",
   "id": "c37188b8",
   "metadata": {},
   "source": [
    "要实现高效的数据驱动科学和计算，需要理解数据是如何被存储和操作的。  \n",
    "  \n",
    "在静态类型的语言（如C或Java）中，往往每一个变量的类型都需要明确的声明。而在动态类型的语言（如Python）中，可以跳过这个特殊的规定，因为类型是动态判断的。这意味着可以将任何类型的数据指定给任何变量："
   ]
  },
  {
   "cell_type": "code",
   "execution_count": null,
   "id": "1e82a275",
   "metadata": {},
   "outputs": [],
   "source": [
    "x = 4 #int\n",
    "x = 'four' #string"
   ]
  },
  {
   "cell_type": "markdown",
   "id": "2403c811",
   "metadata": {},
   "source": [
    "这种灵活特性还指出了一个事实，Python变量不仅是它们的值，还包括了关于值的类型的一些额外的信息。"
   ]
  },
  {
   "cell_type": "code",
   "execution_count": 1,
   "id": "a76b5cbc",
   "metadata": {},
   "outputs": [],
   "source": [
    "import numpy as np #用np别名导入Numpy"
   ]
  },
  {
   "cell_type": "markdown",
   "id": "d6db80af",
   "metadata": {},
   "source": [
    "## 从Python列表创建数组"
   ]
  },
  {
   "cell_type": "markdown",
   "id": "88e79eee",
   "metadata": {},
   "source": [
    "首先，可以用`np.array`从Python列表中创建数组："
   ]
  },
  {
   "cell_type": "code",
   "execution_count": 2,
   "id": "6b9a0db8",
   "metadata": {},
   "outputs": [
    {
     "data": {
      "text/plain": [
       "array([1, 4, 2, 5, 3])"
      ]
     },
     "execution_count": 2,
     "metadata": {},
     "output_type": "execute_result"
    }
   ],
   "source": [
    "np.array([1,4,2,5,3]) #整形数组"
   ]
  },
  {
   "cell_type": "markdown",
   "id": "b8e422fc",
   "metadata": {},
   "source": [
    "NumPy要求数组必须包含同一类型的数据。如果数据类型不匹配，NumPy将会向上转换（如果可行）。"
   ]
  },
  {
   "cell_type": "code",
   "execution_count": 3,
   "id": "d14de428",
   "metadata": {},
   "outputs": [
    {
     "data": {
      "text/plain": [
       "array([3.14, 4.  , 2.  , 3.  ])"
      ]
     },
     "execution_count": 3,
     "metadata": {},
     "output_type": "execute_result"
    }
   ],
   "source": [
    "np.array([3.14,4,2,3]) #整型被转换为浮点型"
   ]
  },
  {
   "cell_type": "markdown",
   "id": "cfccfb91",
   "metadata": {},
   "source": [
    "如果希望明确设置数组的数据类型，可以使用`dtype`关键字："
   ]
  },
  {
   "cell_type": "code",
   "execution_count": 4,
   "id": "f8da063b",
   "metadata": {},
   "outputs": [
    {
     "data": {
      "text/plain": [
       "array([1., 2., 3., 4.], dtype=float32)"
      ]
     },
     "execution_count": 4,
     "metadata": {},
     "output_type": "execute_result"
    }
   ],
   "source": [
    "np.array([1,2,3,4],dtype='float32')"
   ]
  },
  {
   "cell_type": "markdown",
   "id": "a2f876ad",
   "metadata": {},
   "source": [
    "最后，不同于Python列表，NumPy数组可以被指定为多维的。"
   ]
  },
  {
   "cell_type": "code",
   "execution_count": 5,
   "id": "fb6c7508",
   "metadata": {},
   "outputs": [
    {
     "data": {
      "text/plain": [
       "array([[2, 3, 4],\n",
       "       [4, 5, 6],\n",
       "       [6, 7, 8]])"
      ]
     },
     "execution_count": 5,
     "metadata": {},
     "output_type": "execute_result"
    }
   ],
   "source": [
    "np.array([range(i,i+3) for i in [2,4,6]]) #嵌套列表构成的多维数组"
   ]
  },
  {
   "cell_type": "markdown",
   "id": "ab6674ce",
   "metadata": {},
   "source": [
    "内层的列表被当作为二维数组的行。"
   ]
  },
  {
   "cell_type": "markdown",
   "id": "c9e35210",
   "metadata": {},
   "source": [
    "## 从头创建数组"
   ]
  },
  {
   "cell_type": "markdown",
   "id": "dea9773f",
   "metadata": {},
   "source": [
    "面对大型数组的时候，用NumPy内置的方法从头创建数组是一种更高效的方法。  \n",
    "  \n",
    "以下是几个示例："
   ]
  },
  {
   "cell_type": "code",
   "execution_count": 6,
   "id": "031f0920",
   "metadata": {},
   "outputs": [
    {
     "data": {
      "text/plain": [
       "array([0, 0, 0, 0, 0, 0, 0, 0, 0, 0])"
      ]
     },
     "execution_count": 6,
     "metadata": {},
     "output_type": "execute_result"
    }
   ],
   "source": [
    "np.zeros(10,dtype=int) #创建一个长度为10的数组，数组的值都是0"
   ]
  },
  {
   "cell_type": "code",
   "execution_count": 7,
   "id": "8cc7bdc7",
   "metadata": {},
   "outputs": [
    {
     "data": {
      "text/plain": [
       "array([[1., 1., 1., 1., 1.],\n",
       "       [1., 1., 1., 1., 1.],\n",
       "       [1., 1., 1., 1., 1.]])"
      ]
     },
     "execution_count": 7,
     "metadata": {},
     "output_type": "execute_result"
    }
   ],
   "source": [
    "np.ones((3,5),dtype=float) #创建一个3x5的浮点型数组，数组的值都是1"
   ]
  },
  {
   "cell_type": "code",
   "execution_count": 8,
   "id": "253a8ac6",
   "metadata": {},
   "outputs": [
    {
     "data": {
      "text/plain": [
       "array([[3.14, 3.14, 3.14, 3.14, 3.14],\n",
       "       [3.14, 3.14, 3.14, 3.14, 3.14],\n",
       "       [3.14, 3.14, 3.14, 3.14, 3.14]])"
      ]
     },
     "execution_count": 8,
     "metadata": {},
     "output_type": "execute_result"
    }
   ],
   "source": [
    "np.full((3,5),3.14) #创建一个3x5的浮点型数组，数组的值都是3.14"
   ]
  },
  {
   "cell_type": "code",
   "execution_count": 9,
   "id": "7a77c984",
   "metadata": {},
   "outputs": [
    {
     "data": {
      "text/plain": [
       "array([ 0,  2,  4,  6,  8, 10, 12, 14, 16, 18])"
      ]
     },
     "execution_count": 9,
     "metadata": {},
     "output_type": "execute_result"
    }
   ],
   "source": [
    "#创建一个线性序列数组\n",
    "#从0开始，到20结束，步长为2\n",
    "#（它和内置的range()函数类似）\n",
    "np.arange(0,20,2)"
   ]
  },
  {
   "cell_type": "code",
   "execution_count": 10,
   "id": "01218e5e",
   "metadata": {},
   "outputs": [
    {
     "data": {
      "text/plain": [
       "array([0.  , 0.25, 0.5 , 0.75, 1.  ])"
      ]
     },
     "execution_count": 10,
     "metadata": {},
     "output_type": "execute_result"
    }
   ],
   "source": [
    "#创建一个5个元素的数组，着5个数均匀地被分配到0-1\n",
    "np.linspace(0,1,5)"
   ]
  },
  {
   "cell_type": "code",
   "execution_count": 11,
   "id": "3897cde7",
   "metadata": {},
   "outputs": [
    {
     "data": {
      "text/plain": [
       "array([[0.22520583, 0.58987756, 0.65546684],\n",
       "       [0.64602092, 0.29206662, 0.27499691],\n",
       "       [0.35867305, 0.7197953 , 0.91942788]])"
      ]
     },
     "execution_count": 11,
     "metadata": {},
     "output_type": "execute_result"
    }
   ],
   "source": [
    "#创建一个3x3的、在0-1均匀分布的随机数组成的数组\n",
    "np.random.random((3,3))"
   ]
  },
  {
   "cell_type": "code",
   "execution_count": 12,
   "id": "a9e8370b",
   "metadata": {},
   "outputs": [
    {
     "data": {
      "text/plain": [
       "array([[ 0.33868687,  1.39903201,  1.75153908],\n",
       "       [ 0.53825408,  0.54126826, -0.64770791],\n",
       "       [ 1.70502685,  1.5180098 ,  1.94053406]])"
      ]
     },
     "execution_count": 12,
     "metadata": {},
     "output_type": "execute_result"
    }
   ],
   "source": [
    "#创建一个3x3的、均值为0、标准差为1的、正态分布的随机数数组\n",
    "np.random.normal(0,1,(3,3))"
   ]
  },
  {
   "cell_type": "code",
   "execution_count": 13,
   "id": "bb1600fc",
   "metadata": {},
   "outputs": [
    {
     "data": {
      "text/plain": [
       "array([[2, 3, 2],\n",
       "       [6, 3, 0],\n",
       "       [5, 3, 0]])"
      ]
     },
     "execution_count": 13,
     "metadata": {},
     "output_type": "execute_result"
    }
   ],
   "source": [
    "#创建一个3x3的、[0,10)区间的随机整数型数组\n",
    "np.random.randint(0,10,(3,3))"
   ]
  },
  {
   "cell_type": "code",
   "execution_count": 14,
   "id": "9aff7443",
   "metadata": {},
   "outputs": [
    {
     "data": {
      "text/plain": [
       "array([[1., 0., 0.],\n",
       "       [0., 1., 0.],\n",
       "       [0., 0., 1.]])"
      ]
     },
     "execution_count": 14,
     "metadata": {},
     "output_type": "execute_result"
    }
   ],
   "source": [
    "#创建一个3x3的单位矩阵\n",
    "np.eye(3)"
   ]
  },
  {
   "cell_type": "code",
   "execution_count": 15,
   "id": "0e608d2c",
   "metadata": {},
   "outputs": [
    {
     "data": {
      "text/plain": [
       "array([1., 1., 1.])"
      ]
     },
     "execution_count": 15,
     "metadata": {},
     "output_type": "execute_result"
    }
   ],
   "source": [
    "#创建一个由3个整型数组成的未初始化的数组\n",
    "#数组的值是内存空间中的任意值\n",
    "np.empty(3)"
   ]
  },
  {
   "cell_type": "markdown",
   "id": "4e0ba67c",
   "metadata": {},
   "source": [
    "## NumPy标准数据类型"
   ]
  },
  {
   "cell_type": "markdown",
   "id": "a21201d6",
   "metadata": {},
   "source": [
    "NumPy数组包含同一类型的值，因此详细了解这些数据类型及其限制是非常重要的。  \n",
    "  \n",
    "请注意，当构建一个数组时，可以用一个字符串参数来指定数据类型："
   ]
  },
  {
   "cell_type": "code",
   "execution_count": 16,
   "id": "a3fa0f3e",
   "metadata": {},
   "outputs": [
    {
     "data": {
      "text/plain": [
       "array([0, 0, 0, 0, 0, 0, 0, 0, 0, 0], dtype=int16)"
      ]
     },
     "execution_count": 16,
     "metadata": {},
     "output_type": "execute_result"
    }
   ],
   "source": [
    "np.zeros(10,dtype='int16')"
   ]
  },
  {
   "cell_type": "markdown",
   "id": "b383b3e3",
   "metadata": {},
   "source": [
    "或者用相关的NumPy对象来指定："
   ]
  },
  {
   "cell_type": "code",
   "execution_count": 17,
   "id": "5577c514",
   "metadata": {},
   "outputs": [
    {
     "data": {
      "text/plain": [
       "array([0, 0, 0, 0, 0, 0, 0, 0, 0, 0], dtype=int16)"
      ]
     },
     "execution_count": 17,
     "metadata": {},
     "output_type": "execute_result"
    }
   ],
   "source": [
    "np.zeros(10,dtype=np.int16)"
   ]
  },
  {
   "cell_type": "markdown",
   "id": "53e1d980",
   "metadata": {},
   "source": [
    "**NumPy标准数据类型**"
   ]
  },
  {
   "cell_type": "markdown",
   "id": "63d1b4b3",
   "metadata": {},
   "source": [
    "| 数据类型 | 描述 |\n",
    "| :----- | :----- |\n",
    "| bool_ | 布尔值（真、True或假、False）,用一个字节存储 |\n",
    "| int_ | 默认整型（类似于C语言中的long,通常情况下是int64或int32）|\n",
    "| intc | t同C语言中的int相同（通常是int32或int64）|\n",
    "| intp | 作为索引的整型（和C语言的ssize_t相同，通常情况下是int32或int64)|\n",
    "| int8 | 字节（byte，范围从-128到127）|\n",
    "| int16 | 整型（范围从-32768到32767）|\n",
    "| int32 | 整型（范围从-2147483648到2147483647）|\n",
    "| int64 | 整型（范围从-9223372036854775808到9223372036854775807）|\n",
    "| uint8 | 无符号整型（范围从0到255）|\n",
    "| uint16 | 无符号整型（范围从0到65535）|\n",
    "| uint32 | 无符号整型（范围从0到4294967295）|\n",
    "| uint64 | 无符号整型（范围从0到18446744073709551615）|\n",
    "| float_ | float64的简化形式 |\n",
    "| float16 | 半精度浮点型：符号比特位，5比特指数(exponent),10比特位尾数(mantissa) |\n",
    "| float32 | 单精度浮点型：符号比特位，8比特指数,23比特位尾数 |\n",
    "| float64 | 双精度浮点型：符号比特位，11比特指数,52比特位尾数 |\n",
    "| complex_ | complex128的简化形式 |\n",
    "| complex64 | 复数，由两个32位浮点数表示 |\n",
    "| complex128 | 复数，由两个64位浮点数表示 |"
   ]
  },
  {
   "cell_type": "markdown",
   "id": "c82dcaf8",
   "metadata": {},
   "source": [
    "NumPy支持符合数据类型，这一点将会在2.9节中介绍。"
   ]
  }
 ],
 "metadata": {
  "kernelspec": {
   "display_name": "Python 3",
   "language": "python",
   "name": "python3"
  },
  "language_info": {
   "codemirror_mode": {
    "name": "ipython",
    "version": 3
   },
   "file_extension": ".py",
   "mimetype": "text/x-python",
   "name": "python",
   "nbconvert_exporter": "python",
   "pygments_lexer": "ipython3",
   "version": "3.8.8"
  }
 },
 "nbformat": 4,
 "nbformat_minor": 5
}
