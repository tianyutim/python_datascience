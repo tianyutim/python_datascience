{
 "cells": [
  {
   "cell_type": "markdown",
   "id": "70926906",
   "metadata": {},
   "source": [
    "# 2.2 NumPy数组基础"
   ]
  },
  {
   "cell_type": "markdown",
   "id": "5c930efa",
   "metadata": {},
   "source": [
    "本节将展示一些用NumPy数组操作获取数据或子数组，对数组进行分裂、变形和连接的例子。  \n",
    "  \n",
    "**数组的属性**：确定数组的大小、形状、存储大小、数据类型。  \n",
    "**数组的索引**：获取和设置数组各个元素的值。  \n",
    "**数组的切分**：在大的数组中获取或设置更小的子数组。  \n",
    "**数组的变形**：改变给定数组的形状。  \n",
    "**数组的拼接和变形**：将多个数组合并为一个，以及将一个数组分裂成多个。"
   ]
  },
  {
   "cell_type": "markdown",
   "id": "e8d26b0c",
   "metadata": {},
   "source": [
    "## NumPy数组的属性\n",
    "数组的属性：确定数组的大小、形状、存储大小、数据类型。"
   ]
  },
  {
   "cell_type": "code",
   "execution_count": 1,
   "id": "8959b42f",
   "metadata": {},
   "outputs": [],
   "source": [
    "import numpy as np\n",
    "\n",
    "np.random.seed(0) #设置随机数种子，以确保每次程序执行时都可以生成同样的随机数组\n",
    "\n",
    "x1 = np.random.randint(10,size=6)#一维数组\n",
    "x2 = np.random.randint(10,size=(3,4)) #二维数组\n",
    "x3 = np.random.randint(10,size=(3,4,5)) #三维数组"
   ]
  },
  {
   "cell_type": "markdown",
   "id": "b31903b4",
   "metadata": {},
   "source": [
    "每个数组有`ndim`（数组的维度）、`shape`(数组每个维度的大小)和`size`(数组的总大小)属性："
   ]
  },
  {
   "cell_type": "code",
   "execution_count": 8,
   "id": "2d326fb2",
   "metadata": {},
   "outputs": [
    {
     "name": "stdout",
     "output_type": "stream",
     "text": [
      "x3 ndim:  3\n",
      "x3 shape:  (3, 4, 5)\n",
      "x3 size:  60\n"
     ]
    }
   ],
   "source": [
    "print(\"x3 ndim: \", x3.ndim)\n",
    "print(\"x3 shape: \", x3.shape)\n",
    "print(\"x3 size: \", x3.size)"
   ]
  },
  {
   "cell_type": "markdown",
   "id": "43b0e6b1",
   "metadata": {},
   "source": [
    "另一个有用的属性是`dtype`,它是数组的数据类型："
   ]
  },
  {
   "cell_type": "code",
   "execution_count": 9,
   "id": "aea41038",
   "metadata": {},
   "outputs": [
    {
     "name": "stdout",
     "output_type": "stream",
     "text": [
      "x3 dtype:  int32\n"
     ]
    }
   ],
   "source": [
    "print(\"x3 dtype: \", x3.dtype)"
   ]
  },
  {
   "cell_type": "markdown",
   "id": "a48206e5",
   "metadata": {},
   "source": [
    "其他的属性包括表示每个数组元素字节大小的`itemsize`，以及表示数组总字节大小的属性`nbytes`:"
   ]
  },
  {
   "cell_type": "code",
   "execution_count": 10,
   "id": "ceac1dc6",
   "metadata": {},
   "outputs": [
    {
     "name": "stdout",
     "output_type": "stream",
     "text": [
      "x3 itemsize:  4\n",
      "x3 nbytes:  240\n"
     ]
    }
   ],
   "source": [
    "print(\"x3 itemsize: \", x3.itemsize)\n",
    "print(\"x3 nbytes: \", x3.nbytes)"
   ]
  },
  {
   "cell_type": "markdown",
   "id": "d84119cd",
   "metadata": {},
   "source": [
    "一般来说，可以认为`nbytes`跟`itemsize`和`size`的成绩大小相等。"
   ]
  },
  {
   "cell_type": "markdown",
   "id": "e5f39abe",
   "metadata": {},
   "source": [
    "## 数组索引：获取单个元素\n",
    "数组的索引：获取和设置数组各个元素的值。  \n",
    "  \n",
    "和Python列表一样，在一维数组中，你也可以通过中括号指定索引获取第i个值（从0开始计数）。"
   ]
  },
  {
   "cell_type": "code",
   "execution_count": 12,
   "id": "dad163be",
   "metadata": {},
   "outputs": [
    {
     "data": {
      "text/plain": [
       "array([5, 0, 3, 3, 7, 9])"
      ]
     },
     "execution_count": 12,
     "metadata": {},
     "output_type": "execute_result"
    }
   ],
   "source": [
    "x1"
   ]
  },
  {
   "cell_type": "code",
   "execution_count": 13,
   "id": "d1b3687a",
   "metadata": {},
   "outputs": [
    {
     "data": {
      "text/plain": [
       "5"
      ]
     },
     "execution_count": 13,
     "metadata": {},
     "output_type": "execute_result"
    }
   ],
   "source": [
    "x1[0]"
   ]
  },
  {
   "cell_type": "code",
   "execution_count": 14,
   "id": "62bc08fd",
   "metadata": {},
   "outputs": [
    {
     "data": {
      "text/plain": [
       "7"
      ]
     },
     "execution_count": 14,
     "metadata": {},
     "output_type": "execute_result"
    }
   ],
   "source": [
    "x1[4]"
   ]
  },
  {
   "cell_type": "markdown",
   "id": "ac60ba4b",
   "metadata": {},
   "source": [
    "为了获取数组的末尾索引，可以使用负值索引："
   ]
  },
  {
   "cell_type": "code",
   "execution_count": 15,
   "id": "130b6156",
   "metadata": {},
   "outputs": [
    {
     "data": {
      "text/plain": [
       "9"
      ]
     },
     "execution_count": 15,
     "metadata": {},
     "output_type": "execute_result"
    }
   ],
   "source": [
    "x1[-1]"
   ]
  },
  {
   "cell_type": "code",
   "execution_count": 16,
   "id": "a88cc941",
   "metadata": {},
   "outputs": [
    {
     "data": {
      "text/plain": [
       "7"
      ]
     },
     "execution_count": 16,
     "metadata": {},
     "output_type": "execute_result"
    }
   ],
   "source": [
    "x1[-2]"
   ]
  },
  {
   "cell_type": "markdown",
   "id": "5c72eee2",
   "metadata": {},
   "source": [
    "在多维数组中，可以用逗号分隔的索引元组获取元素："
   ]
  },
  {
   "cell_type": "code",
   "execution_count": 17,
   "id": "98327fa0",
   "metadata": {},
   "outputs": [
    {
     "data": {
      "text/plain": [
       "array([[3, 5, 2, 4],\n",
       "       [7, 6, 8, 8],\n",
       "       [1, 6, 7, 7]])"
      ]
     },
     "execution_count": 17,
     "metadata": {},
     "output_type": "execute_result"
    }
   ],
   "source": [
    "x2"
   ]
  },
  {
   "cell_type": "code",
   "execution_count": 18,
   "id": "8d3d5f89",
   "metadata": {},
   "outputs": [
    {
     "data": {
      "text/plain": [
       "3"
      ]
     },
     "execution_count": 18,
     "metadata": {},
     "output_type": "execute_result"
    }
   ],
   "source": [
    "x2[0,0]"
   ]
  },
  {
   "cell_type": "code",
   "execution_count": 19,
   "id": "6f1d747f",
   "metadata": {},
   "outputs": [
    {
     "data": {
      "text/plain": [
       "1"
      ]
     },
     "execution_count": 19,
     "metadata": {},
     "output_type": "execute_result"
    }
   ],
   "source": [
    "x2[2,0]"
   ]
  },
  {
   "cell_type": "code",
   "execution_count": 20,
   "id": "24114699",
   "metadata": {},
   "outputs": [
    {
     "data": {
      "text/plain": [
       "7"
      ]
     },
     "execution_count": 20,
     "metadata": {},
     "output_type": "execute_result"
    }
   ],
   "source": [
    "x2[2,-1]"
   ]
  },
  {
   "cell_type": "markdown",
   "id": "add94756",
   "metadata": {},
   "source": [
    "也可以用以上索引方式修改元素值："
   ]
  },
  {
   "cell_type": "code",
   "execution_count": 21,
   "id": "98a9ef1c",
   "metadata": {},
   "outputs": [
    {
     "data": {
      "text/plain": [
       "array([[12,  5,  2,  4],\n",
       "       [ 7,  6,  8,  8],\n",
       "       [ 1,  6,  7,  7]])"
      ]
     },
     "execution_count": 21,
     "metadata": {},
     "output_type": "execute_result"
    }
   ],
   "source": [
    "x2[0,0] = 12\n",
    "x2"
   ]
  },
  {
   "cell_type": "markdown",
   "id": "06ea178d",
   "metadata": {},
   "source": [
    "请注意，和Python列表不同，NumPy数组是固定类型的。这意味着当你试图将一个浮点值插入一个整型数组时，浮点值会被截短成整型。这并且这种截短是自动完成的，不会给你提示或警告，所以需要特别注意这一点！"
   ]
  },
  {
   "cell_type": "code",
   "execution_count": 22,
   "id": "5ea772a1",
   "metadata": {},
   "outputs": [
    {
     "data": {
      "text/plain": [
       "array([3, 0, 3, 3, 7, 9])"
      ]
     },
     "execution_count": 22,
     "metadata": {},
     "output_type": "execute_result"
    }
   ],
   "source": [
    "x1[0] = 3.1415926 #这将被截短\n",
    "x1"
   ]
  },
  {
   "cell_type": "markdown",
   "id": "5ede7cdf",
   "metadata": {},
   "source": [
    "## 数组切片：获取子数组\n",
    "我们可以用切片（slice）符号获取子数组，切片符号用冒号（:）表示。NumPy切片语法和Python列表的标准切片语法相同。为了获取数组x的一个切片，可以用以下方式："
   ]
  },
  {
   "cell_type": "code",
   "execution_count": null,
   "id": "06757940",
   "metadata": {},
   "outputs": [],
   "source": [
    "x[start:stop:step]"
   ]
  },
  {
   "cell_type": "markdown",
   "id": "feea5f32",
   "metadata": {},
   "source": [
    "如果以上三个参数都未指定，那么它们将会被分别设置默认值start = 0、stop = 维度的大小（size of dimension）和step = 1。"
   ]
  },
  {
   "cell_type": "markdown",
   "id": "c34037f7",
   "metadata": {},
   "source": [
    "### 一维子数组"
   ]
  },
  {
   "cell_type": "code",
   "execution_count": 23,
   "id": "60ffca2e",
   "metadata": {},
   "outputs": [
    {
     "data": {
      "text/plain": [
       "array([0, 1, 2, 3, 4, 5, 6, 7, 8, 9])"
      ]
     },
     "execution_count": 23,
     "metadata": {},
     "output_type": "execute_result"
    }
   ],
   "source": [
    "x = np.arange(10)\n",
    "x"
   ]
  },
  {
   "cell_type": "code",
   "execution_count": 24,
   "id": "cea929f5",
   "metadata": {},
   "outputs": [
    {
     "data": {
      "text/plain": [
       "array([0, 1, 2, 3, 4])"
      ]
     },
     "execution_count": 24,
     "metadata": {},
     "output_type": "execute_result"
    }
   ],
   "source": [
    "x[:5] #前五个元素"
   ]
  },
  {
   "cell_type": "code",
   "execution_count": 25,
   "id": "b794c97f",
   "metadata": {},
   "outputs": [
    {
     "data": {
      "text/plain": [
       "array([5, 6, 7, 8, 9])"
      ]
     },
     "execution_count": 25,
     "metadata": {},
     "output_type": "execute_result"
    }
   ],
   "source": [
    "x[5:] #索引5之后的元素"
   ]
  },
  {
   "cell_type": "code",
   "execution_count": 26,
   "id": "194cb159",
   "metadata": {},
   "outputs": [
    {
     "data": {
      "text/plain": [
       "array([4, 5, 6])"
      ]
     },
     "execution_count": 26,
     "metadata": {},
     "output_type": "execute_result"
    }
   ],
   "source": [
    "x[4:7] #中间的子数组"
   ]
  },
  {
   "cell_type": "code",
   "execution_count": 27,
   "id": "569f52b4",
   "metadata": {},
   "outputs": [
    {
     "data": {
      "text/plain": [
       "array([0, 2, 4, 6, 8])"
      ]
     },
     "execution_count": 27,
     "metadata": {},
     "output_type": "execute_result"
    }
   ],
   "source": [
    "x[::2] #每隔一个元素"
   ]
  },
  {
   "cell_type": "code",
   "execution_count": 28,
   "id": "777b4794",
   "metadata": {},
   "outputs": [
    {
     "data": {
      "text/plain": [
       "array([1, 3, 5, 7, 9])"
      ]
     },
     "execution_count": 28,
     "metadata": {},
     "output_type": "execute_result"
    }
   ],
   "source": [
    "x[1::2] #每隔一个元素，从索引1开始"
   ]
  },
  {
   "cell_type": "markdown",
   "id": "0155d234",
   "metadata": {},
   "source": [
    "你可能会在步长值为负时感到困惑。在这个例子中，start参数和stop参数默认是被交换的。  \n",
    "因此这是一种非常方便的逆序数组的方式："
   ]
  },
  {
   "cell_type": "code",
   "execution_count": 30,
   "id": "972af299",
   "metadata": {},
   "outputs": [
    {
     "data": {
      "text/plain": [
       "array([9, 8, 7, 6, 5, 4, 3, 2, 1, 0])"
      ]
     },
     "execution_count": 30,
     "metadata": {},
     "output_type": "execute_result"
    }
   ],
   "source": [
    "x[::-1] #所有元素，逆序的"
   ]
  },
  {
   "cell_type": "code",
   "execution_count": 31,
   "id": "54407ee5",
   "metadata": {},
   "outputs": [
    {
     "data": {
      "text/plain": [
       "array([5, 3, 1])"
      ]
     },
     "execution_count": 31,
     "metadata": {},
     "output_type": "execute_result"
    }
   ],
   "source": [
    "x[5::-2] #从索引5开始每隔一个元素逆序"
   ]
  },
  {
   "cell_type": "markdown",
   "id": "e99f0cf1",
   "metadata": {},
   "source": [
    "### 多维子数组\n",
    "多维切片也采用同样的方式处理，用逗号分隔。"
   ]
  },
  {
   "cell_type": "code",
   "execution_count": 32,
   "id": "8cdb2601",
   "metadata": {},
   "outputs": [
    {
     "data": {
      "text/plain": [
       "array([[12,  5,  2,  4],\n",
       "       [ 7,  6,  8,  8],\n",
       "       [ 1,  6,  7,  7]])"
      ]
     },
     "execution_count": 32,
     "metadata": {},
     "output_type": "execute_result"
    }
   ],
   "source": [
    "x2"
   ]
  },
  {
   "cell_type": "code",
   "execution_count": 34,
   "id": "89aced95",
   "metadata": {},
   "outputs": [
    {
     "data": {
      "text/plain": [
       "array([[12,  5,  2],\n",
       "       [ 7,  6,  8]])"
      ]
     },
     "execution_count": 34,
     "metadata": {},
     "output_type": "execute_result"
    }
   ],
   "source": [
    "x2[:2,:3] #两行，三列"
   ]
  },
  {
   "cell_type": "code",
   "execution_count": 38,
   "id": "2d5a9cb5",
   "metadata": {},
   "outputs": [
    {
     "data": {
      "text/plain": [
       "array([[12,  2],\n",
       "       [ 7,  8],\n",
       "       [ 1,  7]])"
      ]
     },
     "execution_count": 38,
     "metadata": {},
     "output_type": "execute_result"
    }
   ],
   "source": [
    "x2[:3,::2] #所有行，每隔一列"
   ]
  },
  {
   "cell_type": "markdown",
   "id": "00688952",
   "metadata": {},
   "source": [
    "最后，子数组维度也可以同时被逆序："
   ]
  },
  {
   "cell_type": "code",
   "execution_count": 40,
   "id": "d008aa32",
   "metadata": {},
   "outputs": [
    {
     "data": {
      "text/plain": [
       "array([[ 7,  7,  6,  1],\n",
       "       [ 8,  8,  6,  7],\n",
       "       [ 4,  2,  5, 12]])"
      ]
     },
     "execution_count": 40,
     "metadata": {},
     "output_type": "execute_result"
    }
   ],
   "source": [
    "x2[::-1,::-1]"
   ]
  },
  {
   "cell_type": "markdown",
   "id": "69510c4d",
   "metadata": {},
   "source": [
    "### 获取数组的行和列\n",
    "一种常见的需求是获取数组的单行和单列。你可以将索引与切片组合起来实现这个功能，用一个冒号（:）表示空切片："
   ]
  },
  {
   "cell_type": "code",
   "execution_count": 41,
   "id": "83ac9f3e",
   "metadata": {},
   "outputs": [
    {
     "name": "stdout",
     "output_type": "stream",
     "text": [
      "[12  7  1]\n"
     ]
    }
   ],
   "source": [
    "print(x2[:,0]) #x2的第一列"
   ]
  },
  {
   "cell_type": "code",
   "execution_count": 42,
   "id": "a706153e",
   "metadata": {},
   "outputs": [
    {
     "name": "stdout",
     "output_type": "stream",
     "text": [
      "[12  5  2  4]\n"
     ]
    }
   ],
   "source": [
    "print(x2[0,:]) #x2的第一行"
   ]
  },
  {
   "cell_type": "markdown",
   "id": "c5bcc647",
   "metadata": {},
   "source": [
    "在获取行时，出于语法的简洁考虑，可以省略空的切片："
   ]
  },
  {
   "cell_type": "code",
   "execution_count": 43,
   "id": "0ae5fbfd",
   "metadata": {},
   "outputs": [
    {
     "name": "stdout",
     "output_type": "stream",
     "text": [
      "[12  5  2  4]\n"
     ]
    }
   ],
   "source": [
    "print(x2[0]) #等于x2[0,:]"
   ]
  },
  {
   "cell_type": "markdown",
   "id": "2daa38e8",
   "metadata": {},
   "source": [
    "### 非副本试图的子数组\n",
    "关于数组切片有一点很重要也非有用，那就是数组切片返回的是数组数据的视图，而不是数值数据的副本。这一点也是NumPy数组切片和Python列表切片的不同之处：在Python列表中，切片是值的副本。例如此前示例中的那个二维数组："
   ]
  },
  {
   "cell_type": "code",
   "execution_count": 44,
   "id": "b61c09dd",
   "metadata": {},
   "outputs": [
    {
     "name": "stdout",
     "output_type": "stream",
     "text": [
      "[[12  5  2  4]\n",
      " [ 7  6  8  8]\n",
      " [ 1  6  7  7]]\n"
     ]
    }
   ],
   "source": [
    "print(x2)"
   ]
  },
  {
   "cell_type": "markdown",
   "id": "1dd9f420",
   "metadata": {},
   "source": [
    "从中抽取一个2x2的子数组："
   ]
  },
  {
   "cell_type": "code",
   "execution_count": 46,
   "id": "0afb00ea",
   "metadata": {},
   "outputs": [
    {
     "name": "stdout",
     "output_type": "stream",
     "text": [
      "[[12  5]\n",
      " [ 7  6]]\n"
     ]
    }
   ],
   "source": [
    "x2_sub = x2[:2,:2]\n",
    "print(x2_sub)"
   ]
  },
  {
   "cell_type": "markdown",
   "id": "7423d582",
   "metadata": {},
   "source": [
    "现在如果修改这个子数组，将会看到原始数组也被修改了。结果如下所示："
   ]
  },
  {
   "cell_type": "code",
   "execution_count": 47,
   "id": "58e1ac09",
   "metadata": {},
   "outputs": [
    {
     "name": "stdout",
     "output_type": "stream",
     "text": [
      "[[99  5]\n",
      " [ 7  6]]\n"
     ]
    }
   ],
   "source": [
    "x2_sub[0,0] = 99\n",
    "print(x2_sub)"
   ]
  },
  {
   "cell_type": "code",
   "execution_count": 48,
   "id": "34e1dbdd",
   "metadata": {},
   "outputs": [
    {
     "name": "stdout",
     "output_type": "stream",
     "text": [
      "[[99  5  2  4]\n",
      " [ 7  6  8  8]\n",
      " [ 1  6  7  7]]\n"
     ]
    }
   ],
   "source": [
    "print(x2)"
   ]
  },
  {
   "cell_type": "markdown",
   "id": "d9b52b81",
   "metadata": {},
   "source": [
    "### 创建数组的副本\n",
    "尽管数组视图有一些非常好的特性，但是在有些时候明确地复制数组里地数据或子数组也是非常有用的。可以很简单地通过`copy( )`方法来实现："
   ]
  },
  {
   "cell_type": "code",
   "execution_count": 50,
   "id": "364e8f71",
   "metadata": {},
   "outputs": [
    {
     "name": "stdout",
     "output_type": "stream",
     "text": [
      "[[99  5]\n",
      " [ 7  6]]\n"
     ]
    }
   ],
   "source": [
    "x2_sub_copy = x2[:2,:2].copy()\n",
    "print(x2_sub_copy)"
   ]
  },
  {
   "cell_type": "markdown",
   "id": "99cbddb8",
   "metadata": {},
   "source": [
    "如果修改这个子数组，原始的数组不会被改变："
   ]
  },
  {
   "cell_type": "code",
   "execution_count": 51,
   "id": "0969e302",
   "metadata": {},
   "outputs": [
    {
     "name": "stdout",
     "output_type": "stream",
     "text": [
      "[[42  5]\n",
      " [ 7  6]]\n"
     ]
    }
   ],
   "source": [
    "x2_sub_copy[0,0] = 42\n",
    "print(x2_sub_copy)"
   ]
  },
  {
   "cell_type": "code",
   "execution_count": 52,
   "id": "3fd0f878",
   "metadata": {},
   "outputs": [
    {
     "name": "stdout",
     "output_type": "stream",
     "text": [
      "[[99  5  2  4]\n",
      " [ 7  6  8  8]\n",
      " [ 1  6  7  7]]\n"
     ]
    }
   ],
   "source": [
    "print(x2)"
   ]
  },
  {
   "cell_type": "markdown",
   "id": "b8c480d6",
   "metadata": {},
   "source": [
    "## 数组的变形\n",
    "数组变形最灵活的实现方式是通过`reshape( )`函数来实现。\n",
    "  \n",
    "如果你希望将数字1-9放入一个3x3的矩阵中，可以采用如下方法："
   ]
  },
  {
   "cell_type": "code",
   "execution_count": 55,
   "id": "2c2cafb1",
   "metadata": {},
   "outputs": [
    {
     "name": "stdout",
     "output_type": "stream",
     "text": [
      "[[1 2 3]\n",
      " [4 5 6]\n",
      " [7 8 9]]\n"
     ]
    }
   ],
   "source": [
    "grid = np.arange(1,10).reshape(3,3)\n",
    "print(grid)"
   ]
  },
  {
   "cell_type": "markdown",
   "id": "08ef8e93",
   "metadata": {},
   "source": [
    "请注意，如果希望该方法可行，那么原始数组的大小必须和变形后数组的大小一致。  \n",
    "  \n",
    "如果满足这个条件，`reshape`方法将会用到原始数组的一个非副本视图。但实际情况是，在非连续的数据缓存的情况下，返回非副本试图往往不可能实现。"
   ]
  },
  {
   "cell_type": "markdown",
   "id": "e7fdcf6d",
   "metadata": {},
   "source": [
    "另外一个常见的变形模式是将一个一维数组转变为二维数组的行或列的矩阵。你也可以通过`reshape`方法来时间，或者更见地在一个切片操作中利用`newaxis`关键字："
   ]
  },
  {
   "cell_type": "code",
   "execution_count": 57,
   "id": "3bdb0965",
   "metadata": {},
   "outputs": [
    {
     "data": {
      "text/plain": [
       "array([[1, 2, 3]])"
      ]
     },
     "execution_count": 57,
     "metadata": {},
     "output_type": "execute_result"
    }
   ],
   "source": [
    "x = np.array([1,2,3])\n",
    "\n",
    "#通过变形获得的行向量\n",
    "x.reshape((1,3))"
   ]
  },
  {
   "cell_type": "code",
   "execution_count": 59,
   "id": "d1958872",
   "metadata": {},
   "outputs": [
    {
     "data": {
      "text/plain": [
       "array([[1, 2, 3]])"
      ]
     },
     "execution_count": 59,
     "metadata": {},
     "output_type": "execute_result"
    }
   ],
   "source": [
    "#通过newaxis获得的行向量\n",
    "x[np.newaxis,:]"
   ]
  },
  {
   "cell_type": "code",
   "execution_count": 60,
   "id": "968eabc4",
   "metadata": {},
   "outputs": [
    {
     "data": {
      "text/plain": [
       "array([[1],\n",
       "       [2],\n",
       "       [3]])"
      ]
     },
     "execution_count": 60,
     "metadata": {},
     "output_type": "execute_result"
    }
   ],
   "source": [
    "#通过变形获得的列向量\n",
    "x.reshape((3,1))"
   ]
  },
  {
   "cell_type": "code",
   "execution_count": 61,
   "id": "e5cc3bbf",
   "metadata": {},
   "outputs": [
    {
     "data": {
      "text/plain": [
       "array([[1],\n",
       "       [2],\n",
       "       [3]])"
      ]
     },
     "execution_count": 61,
     "metadata": {},
     "output_type": "execute_result"
    }
   ],
   "source": [
    "#通过newaxis获得的列向量\n",
    "x[:,np.newaxis]"
   ]
  },
  {
   "cell_type": "markdown",
   "id": "d0500d0c",
   "metadata": {},
   "source": [
    "## 数组的拼接和分裂"
   ]
  },
  {
   "cell_type": "markdown",
   "id": "9f239c9d",
   "metadata": {},
   "source": [
    "### 数组的拼接\n",
    "拼接或连接NumPy中的两个数组主要由`np.concatenate`、`np.vstack`和`np.hstack`例程实现。  \n",
    "  \n",
    "`np.concatenate`将数组元组或数组列表作为第一个参数，如下所示："
   ]
  },
  {
   "cell_type": "code",
   "execution_count": 63,
   "id": "6beb0f68",
   "metadata": {},
   "outputs": [
    {
     "data": {
      "text/plain": [
       "array([1, 2, 3, 3, 2, 1])"
      ]
     },
     "execution_count": 63,
     "metadata": {},
     "output_type": "execute_result"
    }
   ],
   "source": [
    "x = np.array([1,2,3])\n",
    "y = np.array([3,2,1])\n",
    "np.concatenate([x,y])"
   ]
  },
  {
   "cell_type": "markdown",
   "id": "c842f07c",
   "metadata": {},
   "source": [
    "你也可以一次性拼接两个以上数组："
   ]
  },
  {
   "cell_type": "code",
   "execution_count": 65,
   "id": "c2a12883",
   "metadata": {},
   "outputs": [
    {
     "name": "stdout",
     "output_type": "stream",
     "text": [
      "[ 1  2  3  3  2  1 99 99 99]\n"
     ]
    }
   ],
   "source": [
    "z = [99,99,99]\n",
    "print(np.concatenate([x,y,z]))"
   ]
  },
  {
   "cell_type": "markdown",
   "id": "c17d4fe3",
   "metadata": {},
   "source": [
    "`np.concatenate`也可以用于二维数组的拼接："
   ]
  },
  {
   "cell_type": "code",
   "execution_count": 67,
   "id": "b013fd82",
   "metadata": {},
   "outputs": [
    {
     "data": {
      "text/plain": [
       "array([[1, 2, 3],\n",
       "       [4, 5, 6],\n",
       "       [1, 2, 3],\n",
       "       [4, 5, 6]])"
      ]
     },
     "execution_count": 67,
     "metadata": {},
     "output_type": "execute_result"
    }
   ],
   "source": [
    "grid = np.array([[1,2,3],\n",
    "                [4,5,6]])\n",
    "\n",
    "#沿着第一个轴拼接\n",
    "np.concatenate([grid,grid])"
   ]
  },
  {
   "cell_type": "code",
   "execution_count": 68,
   "id": "c924e0f4",
   "metadata": {},
   "outputs": [
    {
     "data": {
      "text/plain": [
       "array([[1, 2, 3, 1, 2, 3],\n",
       "       [4, 5, 6, 4, 5, 6]])"
      ]
     },
     "execution_count": 68,
     "metadata": {},
     "output_type": "execute_result"
    }
   ],
   "source": [
    "#沿着第二个轴拼接（从0开始索引）\n",
    "np.concatenate([grid,grid],axis=1)"
   ]
  },
  {
   "cell_type": "markdown",
   "id": "5bd8226c",
   "metadata": {},
   "source": [
    "沿着固定维度处理数组时，使用`np.vstack`(垂直栈)和`np.hstack`（水平栈）函数会更简洁："
   ]
  },
  {
   "cell_type": "code",
   "execution_count": 69,
   "id": "a8b434cb",
   "metadata": {},
   "outputs": [
    {
     "data": {
      "text/plain": [
       "array([[1, 2, 3],\n",
       "       [9, 8, 7],\n",
       "       [6, 5, 4]])"
      ]
     },
     "execution_count": 69,
     "metadata": {},
     "output_type": "execute_result"
    }
   ],
   "source": [
    "x = np.array([1,2,3])\n",
    "grid = np.array([[9,8,7],\n",
    "                [6,5,4]])\n",
    "#垂直栈数组\n",
    "np.vstack([x,grid])"
   ]
  },
  {
   "cell_type": "code",
   "execution_count": 72,
   "id": "46791c4d",
   "metadata": {},
   "outputs": [
    {
     "data": {
      "text/plain": [
       "array([[ 9,  8,  7, 99],\n",
       "       [ 6,  5,  4, 99]])"
      ]
     },
     "execution_count": 72,
     "metadata": {},
     "output_type": "execute_result"
    }
   ],
   "source": [
    "#水平栈数组\n",
    "y = np.array([[99],\n",
    "             [99]])\n",
    "np.hstack([grid,y])"
   ]
  },
  {
   "cell_type": "markdown",
   "id": "b833b921",
   "metadata": {},
   "source": [
    "与之类似，`np.dstack`将沿着第三个维度拼接数组。"
   ]
  },
  {
   "cell_type": "markdown",
   "id": "c59ad729",
   "metadata": {},
   "source": [
    "### 数组的分裂\n",
    "与拼接相反的过程是分裂。分裂可以通过`np.split`、`np.hsplit`和`np.vsplit`函数来实现。  \n",
    "可以向以上函数传递一个索引列表作为参数，索引列表记录的是分裂点位置："
   ]
  },
  {
   "cell_type": "code",
   "execution_count": 74,
   "id": "56043858",
   "metadata": {},
   "outputs": [
    {
     "name": "stdout",
     "output_type": "stream",
     "text": [
      "[1 2 3] [99 99] [3 2 1]\n"
     ]
    }
   ],
   "source": [
    "x = [1,2,3,99,99,3,2,1]\n",
    "x1,x2,x3 = np.split(x,[3,5])\n",
    "print(x1,x2,x3)"
   ]
  },
  {
   "cell_type": "markdown",
   "id": "453c5502",
   "metadata": {},
   "source": [
    "值得注意的是，N分裂点会得到N+1个子数组。相关的`np.hsplit`和`np.vsplit`的用法也类似："
   ]
  },
  {
   "cell_type": "code",
   "execution_count": 76,
   "id": "f29452aa",
   "metadata": {},
   "outputs": [
    {
     "data": {
      "text/plain": [
       "array([[ 0,  1,  2,  3],\n",
       "       [ 4,  5,  6,  7],\n",
       "       [ 8,  9, 10, 11],\n",
       "       [12, 13, 14, 15]])"
      ]
     },
     "execution_count": 76,
     "metadata": {},
     "output_type": "execute_result"
    }
   ],
   "source": [
    "grid = np.arange(16).reshape((4,4))\n",
    "grid"
   ]
  },
  {
   "cell_type": "code",
   "execution_count": 80,
   "id": "73acb325",
   "metadata": {},
   "outputs": [
    {
     "name": "stdout",
     "output_type": "stream",
     "text": [
      "[[0 1 2 3]\n",
      " [4 5 6 7]]\n",
      "[[ 8  9 10 11]\n",
      " [12 13 14 15]]\n"
     ]
    }
   ],
   "source": [
    "upper,lower = np.vsplit(grid,[2])\n",
    "print(upper)\n",
    "print(lower)"
   ]
  },
  {
   "cell_type": "code",
   "execution_count": 82,
   "id": "7632dbb1",
   "metadata": {},
   "outputs": [
    {
     "name": "stdout",
     "output_type": "stream",
     "text": [
      "[[ 0  1]\n",
      " [ 4  5]\n",
      " [ 8  9]\n",
      " [12 13]]\n",
      "[[ 2  3]\n",
      " [ 6  7]\n",
      " [10 11]\n",
      " [14 15]]\n"
     ]
    }
   ],
   "source": [
    "left,right = np.hsplit(grid,[2])\n",
    "print(left)\n",
    "print(right)"
   ]
  },
  {
   "cell_type": "markdown",
   "id": "02b2ea07",
   "metadata": {},
   "source": [
    "同样，`np.dsplit`将数组沿着第三个维度分裂。"
   ]
  },
  {
   "cell_type": "code",
   "execution_count": null,
   "id": "e301d3ae",
   "metadata": {},
   "outputs": [],
   "source": []
  }
 ],
 "metadata": {
  "kernelspec": {
   "display_name": "Python 3",
   "language": "python",
   "name": "python3"
  },
  "language_info": {
   "codemirror_mode": {
    "name": "ipython",
    "version": 3
   },
   "file_extension": ".py",
   "mimetype": "text/x-python",
   "name": "python",
   "nbconvert_exporter": "python",
   "pygments_lexer": "ipython3",
   "version": "3.8.8"
  }
 },
 "nbformat": 4,
 "nbformat_minor": 5
}
